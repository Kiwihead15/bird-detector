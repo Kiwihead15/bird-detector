{
 "cells": [
  {
   "cell_type": "code",
   "execution_count": 3,
   "metadata": {},
   "outputs": [],
   "source": [
    "import cv2, os, re"
   ]
  },
  {
   "cell_type": "code",
   "execution_count": 6,
   "metadata": {},
   "outputs": [],
   "source": [
    "# Replace 'path/to/your/video.mp4' with the actual path to your video file\n",
    "video_path = 'runs\\detect\\exp20\\h264.mp4'"
   ]
  },
  {
   "cell_type": "code",
   "execution_count": 61,
   "metadata": {},
   "outputs": [],
   "source": [
    "# Run this cell to show the frame\n",
    "\n",
    "# Frame to visualize\n",
    "frame_number = 7666     # Replace by the number of frame you want to show\n",
    "\n",
    "# Open the video capture object\n",
    "cap = cv2.VideoCapture(video_path)\n",
    "\n",
    "# Check if video opened successfully\n",
    "if not cap.isOpened():\n",
    "    print(\"Error opening video file!\")\n",
    "    exit()\n",
    "\n",
    "# Move to frame_number\n",
    "cap.set(cv2.CAP_PROP_POS_FRAMES, frame_number)\n",
    "\n",
    "# Check if frame is read successfully\n",
    "ret, frame = cap.read()\n",
    "if not ret:\n",
    "    print(\"Error reading frame!\", frame_number)\n",
    "    cap.release()\n",
    "    exit()\n",
    "\n",
    "# These cells below reduce the image size to 640\n",
    "\n",
    "# Get the original frame dimensions\n",
    "orig_height, orig_width = frame.shape[:2]\n",
    "\n",
    "# Calculate the new width while maintaining aspect ratio for a 640px height\n",
    "new_height = 640\n",
    "new_width = int(orig_width * (new_height / orig_height))\n",
    "\n",
    "# Resize the frame to the calculated dimensions\n",
    "resized_frame = cv2.resize(frame, (new_width, new_height), interpolation=cv2.INTER_AREA)\n",
    "\n",
    "# Display the resized frame\n",
    "cv2.imshow('Frame (Resized)', resized_frame)\n",
    "\n",
    "# Wait for a key press to close the window\n",
    "cv2.waitKey(0)\n",
    "\n",
    "# Close the video capture object\n",
    "cap.release()\n",
    "\n",
    "# Destroy all OpenCV windows\n",
    "cv2.destroyAllWindows()"
   ]
  },
  {
   "cell_type": "code",
   "execution_count": 7,
   "metadata": {},
   "outputs": [
    {
     "name": "stdout",
     "output_type": "stream",
     "text": [
      "Directory created: runs\\detect\\exp20\\detection_pics\n",
      "[551, 564]\n",
      "Frames have been saved in: runs\\detect\\exp20\\detection_pics\n"
     ]
    }
   ],
   "source": [
    "# Run this cell to save the frames from a experiment in the disk\n",
    "\n",
    "# Extract directory path without the filename\n",
    "dir_path = os.path.dirname(video_path)\n",
    "\n",
    "# Handle spaces and special characters in the path using os.path.normpath\n",
    "normalized_path = os.path.normpath(dir_path)\n",
    "\n",
    "# Create the 'detection_pics' directory using os.makedirs to handle missing parent dirs\n",
    "detection_pics_dir = os.path.join(normalized_path, 'detection_pics')\n",
    "os.makedirs(detection_pics_dir, exist_ok=True)  # Create directory if it doesn't exist\n",
    "\n",
    "print(f\"Directory created: {detection_pics_dir}\")\n",
    "\n",
    "# List of frames to be saved based of lables files\n",
    "\n",
    "# Initialize an empty list to store the extracted numbers\n",
    "number_list = []\n",
    "\n",
    "# Directory where labels are stored\n",
    "directory_path = os.path.join(normalized_path, 'labels')\n",
    "\n",
    "# Iterate through all files in the directory\n",
    "for filename in os.listdir(directory_path):\n",
    "    # Use regular expression to match the format and extract the number\n",
    "    match = re.search(r\"(?<=_)(\\w+)\", filename)\n",
    "    if match:\n",
    "        # Extract the captured number as an integer\n",
    "        number = int(match.group(1))\n",
    "        number_list.append(number)\n",
    "print(number_list)\n",
    "\n",
    "# Open the video capture object\n",
    "cap = cv2.VideoCapture(video_path)\n",
    "\n",
    "# Check if video opened successfully\n",
    "if not cap.isOpened():\n",
    "    print(\"Error opening video file!\")\n",
    "    exit()\n",
    "\n",
    "for frame_number in number_list:\n",
    "\n",
    "    # Move to frame_number (or any desired frame number)\n",
    "    cap.set(cv2.CAP_PROP_POS_FRAMES, frame_number)\n",
    "\n",
    "    # Check if frame is read successfully\n",
    "    ret, frame = cap.read()\n",
    "    if not ret:\n",
    "        print(\"Error reading frame!\", frame_number)\n",
    "        cap.release()\n",
    "        exit()\n",
    "\n",
    "# Save the frame to disk as a picture\n",
    "    filename = f\"frame_{frame_number}.jpg\"  # Example filename format\n",
    "    save_path = os.path.join(detection_pics_dir, filename)\n",
    "    \n",
    "    cv2.imwrite(save_path, frame)\n",
    "\n",
    "print(f\"Frames have been saved in: {detection_pics_dir}\")\n",
    "\n",
    "# Close the video capture object\n",
    "cap.release()"
   ]
  }
 ],
 "metadata": {
  "kernelspec": {
   "display_name": ".venv",
   "language": "python",
   "name": "python3"
  },
  "language_info": {
   "codemirror_mode": {
    "name": "ipython",
    "version": 3
   },
   "file_extension": ".py",
   "mimetype": "text/x-python",
   "name": "python",
   "nbconvert_exporter": "python",
   "pygments_lexer": "ipython3",
   "version": "3.8.5"
  }
 },
 "nbformat": 4,
 "nbformat_minor": 2
}
